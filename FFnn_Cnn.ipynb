{
 "cells": [
  {
   "cell_type": "markdown",
   "id": "8bb58600-30ba-4e35-8e68-4e5ee7a0c07b",
   "metadata": {},
   "source": [
    "### FNN"
   ]
  },
  {
   "cell_type": "code",
   "execution_count": 1,
   "id": "8d837aef-ed12-4907-af7b-fc1d4c77292a",
   "metadata": {},
   "outputs": [],
   "source": [
    "# !pip install tensorflow datasets\n",
    "from sklearn.datasets import load_iris #to load default dataset"
   ]
  },
  {
   "cell_type": "code",
   "execution_count": 2,
   "id": "2e1f4a3f-762e-4aca-b7e6-ea342a164777",
   "metadata": {},
   "outputs": [],
   "source": [
    "datasets = load_iris()"
   ]
  },
  {
   "cell_type": "markdown",
   "id": "a10feec5-239c-48bb-ab82-714cc40725c0",
   "metadata": {},
   "source": [
    "* Data --> Feature metrix or multid-mensional-array\n",
    "* Target --> labels # final_output"
   ]
  },
  {
   "cell_type": "code",
   "execution_count": 3,
   "id": "15382fbe-c99c-445d-81ee-0be6e8c5b20c",
   "metadata": {},
   "outputs": [],
   "source": [
    "# 1st step input numbers\n",
    "data = datasets.data\n",
    "target = datasets.target"
   ]
  },
  {
   "cell_type": "code",
   "execution_count": 4,
   "id": "ce5c7cab-53bc-4268-a461-e833bf826b73",
   "metadata": {},
   "outputs": [],
   "source": [
    "#2nd step Network\n",
    "from tensorflow.keras.layers import Dense\n",
    "import tensorflow as tf\n",
    "from tensorflow.keras.models import Sequential"
   ]
  },
  {
   "cell_type": "code",
   "execution_count": 6,
   "id": "1c436f2e-e524-4568-ac28-c56a25d95e89",
   "metadata": {},
   "outputs": [
    {
     "data": {
      "text/plain": [
       "array([0, 1, 2])"
      ]
     },
     "execution_count": 6,
     "metadata": {},
     "output_type": "execute_result"
    }
   ],
   "source": [
    "import pandas as pd\n",
    "import numpy as np\n",
    "np.unique(target)\n"
   ]
  },
  {
   "cell_type": "code",
   "execution_count": 7,
   "id": "c73a072b-211a-4774-a451-5653497c066d",
   "metadata": {},
   "outputs": [
    {
     "name": "stdout",
     "output_type": "stream",
     "text": [
      "[[5.1 3.5 1.4 0.2]\n",
      " [4.9 3.  1.4 0.2]\n",
      " [4.7 3.2 1.3 0.2]\n",
      " [4.6 3.1 1.5 0.2]\n",
      " [5.  3.6 1.4 0.2]]\n",
      "[1 1 1 1 1 1 1 1 1 1 1 1 1 1 1]\n"
     ]
    }
   ],
   "source": [
    "print(data[:5])\n",
    "print(target[50:65])"
   ]
  },
  {
   "cell_type": "code",
   "execution_count": 8,
   "id": "85b2e883-0eff-48c0-96b6-1942e3dd3e69",
   "metadata": {},
   "outputs": [
    {
     "name": "stdout",
     "output_type": "stream",
     "text": [
      "150\n"
     ]
    }
   ],
   "source": [
    "print(len(data))"
   ]
  },
  {
   "cell_type": "code",
   "execution_count": 9,
   "id": "397cfa18-37d0-447f-8592-c249a978880d",
   "metadata": {},
   "outputs": [],
   "source": [
    "from tensorflow.keras.layers import Dense # 2nd Step Network\n",
    "import tensorflow as tf\n",
    "from tensorflow.keras.models import Sequential"
   ]
  },
  {
   "cell_type": "code",
   "execution_count": 10,
   "id": "a4f8d8b9-18f8-4593-be41-58e0614a613d",
   "metadata": {},
   "outputs": [],
   "source": [
    "#Creating model\n",
    "model = Sequential ()\n",
    "#1st hidden layer/dense layer/node 08\n",
    "model.add(Dense(8, input_dim = 4, activation= \"relu\"))\n",
    "#2nd hidden layer\n",
    "model.add(Dense(8, input_dim = 8, activation= \"relu\"))\n",
    "#final hidden layer/ node will be as same as total layer\n",
    "model.add(Dense(3, input_dim=8, activation= \"softmax\")) #we use softmax when the layer is more than 2, for multi class"
   ]
  },
  {
   "cell_type": "code",
   "execution_count": 11,
   "id": "6175fca4-9582-42a1-9c22-75ee5ee931f5",
   "metadata": {},
   "outputs": [],
   "source": [
    "model.compile(loss = \"categorical_crossentropy\", optimizer = \"sgd\", metrics=['accuracy']) #for smooth performance we use sgd optimizer"
   ]
  },
  {
   "cell_type": "code",
   "execution_count": null,
   "id": "c82c7939-2b68-489a-b818-70899dcd62f5",
   "metadata": {},
   "outputs": [],
   "source": []
  },
  {
   "cell_type": "code",
   "execution_count": 12,
   "id": "e6f6c5c7-72ab-4a24-a379-ccfd8552c1d3",
   "metadata": {},
   "outputs": [],
   "source": [
    "import numpy as np\n",
    "import pandas as pd\n",
    "from sklearn.model_selection import train_test_split\n"
   ]
  },
  {
   "cell_type": "code",
   "execution_count": 13,
   "id": "a78b1136-1c4d-44d9-9681-08984c14c9ee",
   "metadata": {},
   "outputs": [],
   "source": [
    "train_data, test_data, train_target, test_target = train_test_split(data, target, test_size= 0.2, random_state =1)"
   ]
  },
  {
   "cell_type": "code",
   "execution_count": 14,
   "id": "851bb0c6-8fa9-43a9-a1e7-bc5c13bf81ac",
   "metadata": {},
   "outputs": [],
   "source": [
    "from tensorflow.keras.utils import to_categorical #[0,1,2]"
   ]
  },
  {
   "cell_type": "code",
   "execution_count": 15,
   "id": "6be5ffdc-6047-43f0-8fa7-fc8000424daf",
   "metadata": {},
   "outputs": [],
   "source": [
    "update_train_target = to_categorical(train_target)"
   ]
  },
  {
   "cell_type": "code",
   "execution_count": 16,
   "id": "23d43113-1ef4-4ae7-a45b-b6aba3e37977",
   "metadata": {},
   "outputs": [
    {
     "name": "stdout",
     "output_type": "stream",
     "text": [
      "[[0. 1. 0.]\n",
      " [0. 0. 1.]\n",
      " [0. 1. 0.]\n",
      " [0. 0. 1.]\n",
      " [0. 0. 1.]]\n"
     ]
    }
   ],
   "source": [
    "print(update_train_target[:5])"
   ]
  },
  {
   "cell_type": "code",
   "execution_count": 17,
   "id": "67c369fd-9ff6-4e78-9fb3-9c906fc4a68b",
   "metadata": {},
   "outputs": [
    {
     "name": "stdout",
     "output_type": "stream",
     "text": [
      "Epoch 1/5\n",
      "4/4 [==============================] - 2s 16ms/step - loss: 0.9049 - accuracy: 0.5083\n",
      "Epoch 2/5\n",
      "4/4 [==============================] - 0s 5ms/step - loss: 0.7485 - accuracy: 0.6833\n",
      "Epoch 3/5\n",
      "4/4 [==============================] - 0s 3ms/step - loss: 0.6943 - accuracy: 0.6917\n",
      "Epoch 4/5\n",
      "4/4 [==============================] - 0s 2ms/step - loss: 0.6547 - accuracy: 0.6917\n",
      "Epoch 5/5\n",
      "4/4 [==============================] - 0s 2ms/step - loss: 0.6254 - accuracy: 0.7250\n"
     ]
    }
   ],
   "source": [
    "history = model.fit(train_data, update_train_target, epochs =5)"
   ]
  },
  {
   "cell_type": "code",
   "execution_count": 18,
   "id": "d95bc71a-2a3e-40a1-a5bf-68a17e635a3d",
   "metadata": {},
   "outputs": [],
   "source": [
    "import matplotlib.pyplot as plt"
   ]
  },
  {
   "cell_type": "code",
   "execution_count": 19,
   "id": "0a33b2ba-9f5f-46f9-9d21-05358d4a0df8",
   "metadata": {},
   "outputs": [
    {
     "data": {
      "image/png": "[encoded data removed]",
      "text/plain": [
       "<Figure size 432x288 with 1 Axes>"
      ]
     },
     "metadata": {
      "needs_background": "light"
     },
     "output_type": "display_data"
    }
   ],
   "source": [
    "plt.plot(history.history[\"loss\"])\n",
    "plt.xlabel(\"Iterations\")\n",
    "plt.ylabel(\"Loss Values\")\n",
    "plt.show()"
   ]
  },
  {
   "cell_type": "code",
   "execution_count": 20,
   "id": "0ba16684-43ff-4250-8d6a-951ffc655ab4",
   "metadata": {},
   "outputs": [
    {
     "data": {
      "text/plain": [
       "['loss', 'accuracy']"
      ]
     },
     "execution_count": 20,
     "metadata": {},
     "output_type": "execute_result"
    }
   ],
   "source": [
    "model.metrics_names"
   ]
  },
  {
   "cell_type": "code",
   "execution_count": 21,
   "id": "282cbf20-60e8-44bc-b2ae-57b3dda9f7d4",
   "metadata": {},
   "outputs": [
    {
     "data": {
      "image/png": "[encoded data removed]",
      "text/plain": [
       "<Figure size 432x288 with 1 Axes>"
      ]
     },
     "metadata": {
      "needs_background": "light"
     },
     "output_type": "display_data"
    }
   ],
   "source": [
    "plt.plot(history.history[\"accuracy\"])\n",
    "plt.xlabel(\"Iterations\")\n",
    "plt.ylabel(\"Accuracy Values\")\n",
    "plt.show()"
   ]
  },
  {
   "cell_type": "code",
   "execution_count": 22,
   "id": "be802c80-6813-4783-ba5c-025e1f5389d9",
   "metadata": {},
   "outputs": [],
   "source": [
    "predicted_target = model.predict(test_data)"
   ]
  },
  {
   "cell_type": "code",
   "execution_count": 23,
   "id": "d120e429-93ff-41b7-b9ee-b8f0294386ee",
   "metadata": {},
   "outputs": [
    {
     "name": "stdout",
     "output_type": "stream",
     "text": [
      "[[0.7532736  0.15088083 0.09584554]\n",
      " [0.20668669 0.40099627 0.392317  ]\n",
      " [0.14381295 0.3939111  0.46227592]\n",
      " [0.7156175  0.17258342 0.11179913]\n",
      " [0.08711337 0.33777025 0.5751164 ]\n",
      " [0.14950974 0.38667706 0.4638132 ]\n",
      " [0.07643732 0.2884708  0.63509184]\n",
      " [0.6782999  0.19747464 0.12422545]\n",
      " [0.63922113 0.2170938  0.14368512]\n",
      " [0.07038839 0.2746715  0.6549401 ]\n",
      " [0.15513512 0.37675163 0.46811324]\n",
      " [0.6969374  0.18585679 0.11720587]\n",
      " [0.06551428 0.2699568  0.66452897]\n",
      " [0.15385006 0.39552438 0.45062548]\n",
      " [0.1381054  0.36772835 0.49416634]\n",
      " [0.6711436  0.19565074 0.13320568]\n",
      " [0.15725039 0.38641256 0.45633712]\n",
      " [0.15393046 0.37230653 0.47376308]\n",
      " [0.5997884  0.24202423 0.15818733]\n",
      " [0.65160394 0.20782834 0.14056772]\n",
      " [0.15211344 0.3703684  0.4775182 ]\n",
      " [0.15871634 0.37047836 0.47080535]\n",
      " [0.10734414 0.34348077 0.549175  ]\n",
      " [0.68400097 0.18977535 0.12622365]\n",
      " [0.08478909 0.31543165 0.5997793 ]\n",
      " [0.16552846 0.38862005 0.44585156]\n",
      " [0.7785857  0.1364584  0.08495594]\n",
      " [0.71830004 0.17142658 0.11027344]\n",
      " [0.1478165  0.38161293 0.47057053]\n",
      " [0.07674381 0.27669746 0.6465587 ]]\n"
     ]
    }
   ],
   "source": [
    "print(predicted_target)"
   ]
  },
  {
   "cell_type": "code",
   "execution_count": 24,
   "id": "16ea168c-5232-427c-a525-1e3676f89bd3",
   "metadata": {},
   "outputs": [],
   "source": [
    "import numpy as np"
   ]
  },
  {
   "cell_type": "code",
   "execution_count": 25,
   "id": "5765c3c0-b0e4-4ccd-a6a7-3d624ab31837",
   "metadata": {},
   "outputs": [
    {
     "name": "stdout",
     "output_type": "stream",
     "text": [
      "Pred_labels:  [0 1 2 0 2 2 2 0 0 2 2 0 2 2 2 0 2 2 0 0 2 2 2 0 2 2 0 0 2 2]\n",
      "Actual_labels: [0 1 1 0 2 1 2 0 0 2 1 0 2 1 1 0 1 1 0 0 1 1 1 0 2 1 0 0 1 2]\n"
     ]
    }
   ],
   "source": [
    "print(\"Pred_labels: \", np.argmax(predicted_target, axis =1))\n",
    "print(\"Actual_labels:\", test_target)"
   ]
  },
  {
   "cell_type": "markdown",
   "id": "75d08f03-1cee-448e-9bbd-8f6d599da9cb",
   "metadata": {},
   "source": [
    "### CNN\n"
   ]
  },
  {
   "cell_type": "code",
   "execution_count": 42,
   "id": "720551ed-a2e6-45ee-90d8-ae0e8a63c13f",
   "metadata": {},
   "outputs": [],
   "source": [
    "import matplotlib.pyplot as plt\n",
    "from tensorflow.keras.models import Sequential\n",
    "from tensorflow.keras import optimizers\n",
    "from tensorflow.keras.layers import Dense,Activation, Flatten, Conv2D, MaxPool2D, AveragePooling2D, GlobalAveragePooling2D, ZeroPadding2D, Input, MaxPooling2D \n",
    "from tensorflow.keras.models import Model\n",
    "from tensorflow.keras.datasets import cifar10, mnist\n",
    "from tensorflow.keras.preprocessing import image"
   ]
  },
  {
   "cell_type": "code",
   "execution_count": 27,
   "id": "20109755-e6a1-4a85-a28d-e479472e1cad",
   "metadata": {},
   "outputs": [],
   "source": [
    "(x_train, y_train), _ = cifar10.load_data()"
   ]
  },
  {
   "cell_type": "code",
   "execution_count": 28,
   "id": "c63b3658-85cf-4afe-8f0a-9ef88d813169",
   "metadata": {},
   "outputs": [
    {
     "name": "stdout",
     "output_type": "stream",
     "text": [
      "(32, 32, 3)\n",
      "(1,)\n"
     ]
    }
   ],
   "source": [
    "print(x_train[0].shape)\n",
    "print(y_train[0].shape)"
   ]
  },
  {
   "cell_type": "code",
   "execution_count": 29,
   "id": "9dcff978-c040-4244-aa55-505b0a9358f8",
   "metadata": {},
   "outputs": [
    {
     "data": {
      "image/png": "[encoded data removed]",
      "text/plain": [
       "<Figure size 720x720 with 1 Axes>"
      ]
     },
     "metadata": {
      "needs_background": "light"
     },
     "output_type": "display_data"
    },
    {
     "data": {
      "image/png": "[encoded data removed]",
      "text/plain": [
       "<Figure size 432x288 with 1 Axes>"
      ]
     },
     "metadata": {
      "needs_background": "light"
     },
     "output_type": "display_data"
    },
    {
     "data": {
      "image/png": "[encoded data removed]",
      "text/plain": [
       "<Figure size 432x288 with 1 Axes>"
      ]
     },
     "metadata": {
      "needs_background": "light"
     },
     "output_type": "display_data"
    },
    {
     "data": {
      "image/png": "[encoded data removed]",
      "text/plain": [
       "<Figure size 432x288 with 1 Axes>"
      ]
     },
     "metadata": {
      "needs_background": "light"
     },
     "output_type": "display_data"
    },
    {
     "data": {
      "image/png": "[encoded data removed]",
      "text/plain": [
       "<Figure size 432x288 with 1 Axes>"
      ]
     },
     "metadata": {
      "needs_background": "light"
     },
     "output_type": "display_data"
    },
    {
     "data": {
      "image/png": "[encoded data removed]",
      "text/plain": [
       "<Figure size 432x288 with 1 Axes>"
      ]
     },
     "metadata": {
      "needs_background": "light"
     },
     "output_type": "display_data"
    },
    {
     "data": {
      "image/png": "[encoded data removed]",
      "text/plain": [
       "<Figure size 432x288 with 1 Axes>"
      ]
     },
     "metadata": {
      "needs_background": "light"
     },
     "output_type": "display_data"
    },
    {
     "data": {
      "image/png": "[encoded data removed]",
      "text/plain": [
       "<Figure size 432x288 with 1 Axes>"
      ]
     },
     "metadata": {
      "needs_background": "light"
     },
     "output_type": "display_data"
    },
    {
     "data": {
      "image/png": "[encoded data removed]",
      "text/plain": [
       "<Figure size 432x288 with 1 Axes>"
      ]
     },
     "metadata": {
      "needs_background": "light"
     },
     "output_type": "display_data"
    }
   ],
   "source": [
    "fig = plt.figure(figsize=(10, 10))\n",
    "for i in range(9):\n",
    "    fig.add_subplot(3, 3, i+1)\n",
    "    plt.imshow(x_train[i])\n",
    "    plt.show()"
   ]
  },
  {
   "cell_type": "code",
   "execution_count": 30,
   "id": "4fec036e-d1b1-4100-8430-fd936499a69f",
   "metadata": {},
   "outputs": [],
   "source": [
    "(x_train, y_train), _ = mnist.load_data()"
   ]
  },
  {
   "cell_type": "code",
   "execution_count": 31,
   "id": "8e5301d5-bb7b-49d9-96bd-d4a772c4887c",
   "metadata": {},
   "outputs": [
    {
     "name": "stdout",
     "output_type": "stream",
     "text": [
      "(28, 28)\n",
      "()\n"
     ]
    }
   ],
   "source": [
    "print(x_train[0].shape)\n",
    "print(y_train[0].shape)"
   ]
  },
  {
   "cell_type": "code",
   "execution_count": 32,
   "id": "465d0013-0bf7-40ba-86c4-036cf5bbf980",
   "metadata": {},
   "outputs": [
    {
     "data": {
      "image/png": "[encoded data removed]",
      "text/plain": [
       "<Figure size 720x720 with 1 Axes>"
      ]
     },
     "metadata": {
      "needs_background": "light"
     },
     "output_type": "display_data"
    },
    {
     "data": {
      "image/png": "[encoded data removed]",
      "text/plain": [
       "<Figure size 432x288 with 1 Axes>"
      ]
     },
     "metadata": {
      "needs_background": "light"
     },
     "output_type": "display_data"
    },
    {
     "data": {
      "image/png": "[encoded data removed]",
      "text/plain": [
       "<Figure size 432x288 with 1 Axes>"
      ]
     },
     "metadata": {
      "needs_background": "light"
     },
     "output_type": "display_data"
    },
    {
     "data": {
      "image/png": "[encoded data removed]",
      "text/plain": [
       "<Figure size 432x288 with 1 Axes>"
      ]
     },
     "metadata": {
      "needs_background": "light"
     },
     "output_type": "display_data"
    },
    {
     "data": {
      "image/png": "[encoded data removed]",
      "text/plain": [
       "<Figure size 432x288 with 1 Axes>"
      ]
     },
     "metadata": {
      "needs_background": "light"
     },
     "output_type": "display_data"
    },
    {
     "data": {
      "image/png": "[encoded data removed]",
      "text/plain": [
       "<Figure size 432x288 with 1 Axes>"
      ]
     },
     "metadata": {
      "needs_background": "light"
     },
     "output_type": "display_data"
    },
    {
     "data": {
      "image/png": "[encoded data removed]",
      "text/plain": [
       "<Figure size 432x288 with 1 Axes>"
      ]
     },
     "metadata": {
      "needs_background": "light"
     },
     "output_type": "display_data"
    },
    {
     "data": {
      "image/png": "[encoded data removed]",
      "text/plain": [
       "<Figure size 432x288 with 1 Axes>"
      ]
     },
     "metadata": {
      "needs_background": "light"
     },
     "output_type": "display_data"
    },
    {
     "data": {
      "image/png": "[encoded data removed]",
      "text/plain": [
       "<Figure size 432x288 with 1 Axes>"
      ]
     },
     "metadata": {
      "needs_background": "light"
     },
     "output_type": "display_data"
    }
   ],
   "source": [
    "fig = plt.figure(figsize=(10, 10))\n",
    "for i in range(9):\n",
    "    fig.add_subplot(3, 3, i+1)\n",
    "    plt.imshow(x_train[i])\n",
    "    plt.show()"
   ]
  },
  {
   "cell_type": "markdown",
   "id": "d1a540d5-63d8-4c73-86a9-f7feda69b06c",
   "metadata": {},
   "source": [
    "### Padding\n",
    "* Valid Padding --> No padding needded\n",
    "* Same Paddding --> kernel size = 4, padding 4/2 ---> kernelsize/2### "
   ]
  },
  {
   "cell_type": "code",
   "execution_count": 33,
   "id": "3a4836f5-eab9-4250-9d9b-60d2cdb4f5a3",
   "metadata": {},
   "outputs": [],
   "source": [
    "model = Sequential()\n",
    "model.add(Conv2D(input_shape = (10, 10, 3),\n",
    "                filters = 10, kernel_size = (3, 3),\n",
    "                strides = (1, 1), padding = \"valid\"))"
   ]
  },
  {
   "cell_type": "code",
   "execution_count": 34,
   "id": "1602860c-2299-43fe-a7df-6712c7819616",
   "metadata": {},
   "outputs": [
    {
     "name": "stdout",
     "output_type": "stream",
     "text": [
      "(None, 8, 8, 10)\n"
     ]
    }
   ],
   "source": [
    "print(model.output_shape)"
   ]
  },
  {
   "cell_type": "code",
   "execution_count": 35,
   "id": "5700e867-09dc-4157-a5c7-349e60c7dd4e",
   "metadata": {},
   "outputs": [],
   "source": [
    "model = Sequential()\n",
    "model.add(Conv2D(input_shape = (10, 10, 3),\n",
    "                filters = 10, kernel_size = (6, 6),\n",
    "                strides = (1, 1), padding = \"same\"))"
   ]
  },
  {
   "cell_type": "code",
   "execution_count": 36,
   "id": "d4229594-1fa8-4f41-8016-c88e987052bc",
   "metadata": {},
   "outputs": [
    {
     "name": "stdout",
     "output_type": "stream",
     "text": [
      "(None, 10, 10, 10)\n"
     ]
    }
   ],
   "source": [
    "print(model.output_shape)"
   ]
  },
  {
   "cell_type": "code",
   "execution_count": 37,
   "id": "45d31c1b-347a-458d-9964-d8284f45f54c",
   "metadata": {},
   "outputs": [],
   "source": [
    "model = Sequential()\n",
    "model.add(Conv2D(input_shape = (10, 10, 3),\n",
    "                filters = 10, kernel_size = (3, 3),\n",
    "                strides = (1, 1), padding = \"same\"))"
   ]
  },
  {
   "cell_type": "code",
   "execution_count": 38,
   "id": "859017b1-c5c0-46b2-9aa5-360445e3a8df",
   "metadata": {},
   "outputs": [
    {
     "name": "stdout",
     "output_type": "stream",
     "text": [
      "(None, 10, 10, 10)\n"
     ]
    }
   ],
   "source": [
    "print(model.output_shape)"
   ]
  },
  {
   "cell_type": "code",
   "execution_count": 51,
   "id": "2b3a53ee-f6d8-4daa-927e-74b7923e3b70",
   "metadata": {},
   "outputs": [],
   "source": [
    "model = Sequential()\n",
    "model.add(Conv2D(input_shape = (10, 10, 3),\n",
    "                filters = 20, kernel_size = (3, 3),\n",
    "                strides = (1, 1), padding = \"same\"))"
   ]
  },
  {
   "cell_type": "code",
   "execution_count": 52,
   "id": "615ec917-55b2-4bff-a1d1-431675fb2ed4",
   "metadata": {},
   "outputs": [
    {
     "name": "stdout",
     "output_type": "stream",
     "text": [
      "(None, 10, 10, 20)\n"
     ]
    }
   ],
   "source": [
    "print(model.output_shape) "
   ]
  },
  {
   "cell_type": "code",
   "execution_count": 53,
   "id": "08d87320-0535-403e-a342-b75206114b2b",
   "metadata": {},
   "outputs": [],
   "source": [
    "model.add(MaxPooling2D(pool_size = (2, 2), padding = \"same\"))"
   ]
  },
  {
   "cell_type": "code",
   "execution_count": 54,
   "id": "c5b07123-76f5-455e-93b4-e5e49b4bfb21",
   "metadata": {},
   "outputs": [
    {
     "name": "stdout",
     "output_type": "stream",
     "text": [
      "(None, 5, 5, 20)\n"
     ]
    }
   ],
   "source": [
    "print(model.output_shape) "
   ]
  },
  {
   "cell_type": "code",
   "execution_count": null,
   "id": "d6a9b833-4bff-434f-b185-365fbb91def0",
   "metadata": {},
   "outputs": [],
   "source": []
  }
 ],
 "metadata": {
  "kernelspec": {
   "display_name": "Python 3",
   "language": "python",
   "name": "python3"
  },
  "language_info": {
   "codemirror_mode": {
    "name": "ipython",
    "version": 3
   },
   "file_extension": ".py",
   "mimetype": "text/x-python",
   "name": "python",
   "nbconvert_exporter": "python",
   "pygments_lexer": "ipython3",
   "version": "3.9.2"
  }
 },
 "nbformat": 4,
 "nbformat_minor": 5
}
